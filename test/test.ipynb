{
 "cells": [
  {
   "cell_type": "code",
   "execution_count": null,
   "id": "fe7058f5",
   "metadata": {
    "vscode": {
     "languageId": "plaintext"
    }
   },
   "outputs": [],
   "source": [
    "# Import necessary libraries  \n",
    "import os  \n",
    "import gym  \n",
    "from stable_baselines3 import SAC  \n",
    "from stable_baselines3.common.vec_env import DummyVecEnv  \n",
    "import tensorflow as tf  \n",
    " \n",
    "# Check if a GPU is available and if not, set CPU as device  \n",
    "if tf.config.list_physical_devices('GPU'):  \n",
    "    device = \"GPU:0\"  \n",
    "else:  \n",
    "    device = \"CPU:0\"  \n",
    " \n",
    "# Set the device for TensorFlow  \n",
    "os.environ[\"CUDA_VISIBLE_DEVICES\"] = device  \n",
    " \n",
    "# Create the environment  \n",
    "env = gym.make('CarRacing-v2')  \n",
    "env = DummyVecEnv([lambda: env])  # The algorithms require a vectorized environment to run  \n",
    " \n",
    "# Define the model  \n",
    "model = SAC(\"MlpPolicy\", env, verbose=1)  \n",
    " \n",
    "# Train the model  \n",
    "model.learn(total_timesteps=10000)  \n",
    " \n",
    "# Test the model  \n",
    "obs = env.reset()  \n",
    "for i in range(1000):  \n",
    "    action, _states = model.predict(obs)  \n",
    "    obs, rewards, dones, info = env.step(action)  \n",
    "    env.render()  \n",
    "\n",
    "# Import necessary libraries  \n",
    "import os  \n",
    "import gym  \n",
    "from stable_baselines3 import SAC  \n",
    "from stable_baselines3.common.vec_env import DummyVecEnv  \n",
    "import tensorflow as tf  \n",
    " \n",
    "# Check if a GPU is available and if not, set CPU as device  \n",
    "if tf.config.list_physical_devices('GPU'):  \n",
    "    device = \"GPU:0\"  \n",
    "else:  \n",
    "    device = \"CPU:0\"  \n",
    " \n",
    "# Set the device for TensorFlow  \n",
    "os.environ[\"CUDA_VISIBLE_DEVICES\"] = device  \n",
    " \n",
    "# Create the environment  \n",
    "env = gym.make('CarRacing-v2')  \n",
    "env = DummyVecEnv([lambda: env])  # The algorithms require a vectorized environment to run  \n",
    " \n",
    "# Define the model  \n",
    "model = SAC(\"MlpPolicy\", env, verbose=1)  \n",
    " \n",
    "# Train the model and show the training process in the terminal\n",
    "model.learn(total_timesteps=10000, log_interval=10)\n",
    "\n",
    "# Save the model\n",
    "model.save(\"sac_cartpole\")\n",
    "\n",
    "# Load the model\n",
    "model = SAC.load(\"sac_cartpole\")\n",
    "\n",
    "# Test the model\n",
    "obs = env.reset()\n",
    "for i in range(1000):\n",
    "    action, _states = model.predict(obs)\n",
    "    obs, rewards, dones, info = env.step(action)\n",
    "    env.render()\n",
    "env.close()\n",
    "\n",
    " "
   ]
  },
  {
   "cell_type": "code",
   "execution_count": null,
   "id": "b9fff245",
   "metadata": {
    "vscode": {
     "languageId": "plaintext"
    }
   },
   "outputs": [],
   "source": [
    "import numpy as np\n",
    "import gymnasium as gym\n",
    "import matplotlib.pyplot as plt\n",
    "\n",
    "import torch\n",
    "import torch.nn as nn\n",
    "import torch.nn.functional as F\n",
    "\n",
    "env = gym.make('CarRacing-v2', continuous=False)\n",
    "print(\"Observation space: \", env.observation_space)\n",
    "print(\"Action space: \", env.action_space)\n",
    "\n",
    "s, info = env.reset()\n",
    "print(s.shape)\n",
    "\n",
    "plt.figure(figsize=(5, 5))\n",
    "plt.imshow(s)\n",
    "plt.axis('off')\n",
    "plt.show()"
   ]
  },
  {
   "cell_type": "code",
   "execution_count": null,
   "id": "83ebeb6a",
   "metadata": {
    "vscode": {
     "languageId": "plaintext"
    }
   },
   "outputs": [],
   "source": [
    "import matplotlib\n",
    "from IPython.display import HTML\n",
    "\n",
    "frames = []\n",
    "for i in range(50):\n",
    "    s, r, terminated, truncated, info = env.step(0)  # 0-th action is no_op action\n",
    "    frames.append(s)\n",
    "\n",
    "# Create animation\n",
    "fig = plt.figure(figsize=(5, 5))\n",
    "plt.axis('off')\n",
    "im = plt.imshow(frames[0])\n",
    "def animate(i):\n",
    "    im.set_array(frames[i])\n",
    "    return im,\n",
    "anim = matplotlib.animation.FuncAnimation(fig, animate, frames=len(frames))\n",
    "HTML(anim.to_jshtml())"
   ]
  }
 ],
 "metadata": {
  "kernelspec": {
   "display_name": "Python 3 (ipykernel)",
   "language": "python",
   "name": "python3"
  },
  "language_info": {
   "codemirror_mode": {
    "name": "ipython",
    "version": 3
   },
   "file_extension": ".py",
   "mimetype": "text/x-python",
   "name": "python",
   "nbconvert_exporter": "python",
   "pygments_lexer": "ipython3",
   "version": "3.9.15"
  }
 },
 "nbformat": 4,
 "nbformat_minor": 5
}
